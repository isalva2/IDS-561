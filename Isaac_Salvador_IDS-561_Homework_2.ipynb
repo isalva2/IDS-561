{
 "cells": [
  {
   "cell_type": "markdown",
   "metadata": {},
   "source": [
    "# IDS 561 Homework 2\n",
    "Isaac Salvador<br>UIN: 669845132"
   ]
  },
  {
   "cell_type": "markdown",
   "metadata": {},
   "source": [
    "## Dataset\n",
    "The first task prior to data manipulation is importing the necessary `spark` packages and the _**Amazon_Responded_Oct05.csv**_ file as a `spark` `rdd`."
   ]
  },
  {
   "cell_type": "code",
   "execution_count": 1,
   "metadata": {},
   "outputs": [
    {
     "name": "stderr",
     "output_type": "stream",
     "text": [
      "23/09/29 14:34:38 WARN Utils: Your hostname, Isaacs-MacBook-Pro.local resolves to a loopback address: 127.0.0.1; using 10.0.0.163 instead (on interface en0)\n",
      "23/09/29 14:34:38 WARN Utils: Set SPARK_LOCAL_IP if you need to bind to another address\n",
      "Setting default log level to \"WARN\".\n",
      "To adjust logging level use sc.setLogLevel(newLevel). For SparkR, use setLogLevel(newLevel).\n",
      "23/09/29 14:34:38 WARN NativeCodeLoader: Unable to load native-hadoop library for your platform... using builtin-java classes where applicable\n"
     ]
    }
   ],
   "source": [
    "from pyspark import SparkContext, SparkConf\n",
    "\n",
    "conf = SparkConf().setAppName(\"IDS561_HW2\")\n",
    "sc = SparkContext(conf=conf)\n",
    "\n",
    "# create initial rdd with raw csv file data\n",
    "rdd = sc.textFile(\"data/Amazon_Responded_Oct05.csv\")"
   ]
  },
  {
   "cell_type": "markdown",
   "metadata": {},
   "source": [
    "We can then use the `.take()` method within in the `head()` function to see the first 15 records of the rdd:"
   ]
  },
  {
   "cell_type": "code",
   "execution_count": 2,
   "metadata": {},
   "outputs": [
    {
     "name": "stdout",
     "output_type": "stream",
     "text": [
      "id_str,tweet_created_at,user_screen_name,user_id_str,user_statuses_count,user_favourites_count,user_protected,user_listed_count,user_following,user_description,user_location,user_verified,user_followers_count,user_friends_count,user_created_at,tweet_language,text_,favorite_count,favorited,in_reply_to_screen_name,in_reply_to_status_id_str,in_reply_to_user_id_str,retweet_count,retweeted,text\n",
      "\n",
      "'793270689780203520',Tue Nov 01 01:57:25 +0000 2016,SeanEPanjab,143515471,51287,4079,False,74,False,\"Content marketer; Polyglot; Beard aficionado; Sikh. Persian, Catalan, French, Spanish. You'll find lol in the interstitial lulls of my tweets.\",غریب الوطن,False,1503,850,Thu May 13 17:43:52 +0000 2010,en,@AmazonHelp Can you please DM me? A product I ordered last year never arrived.,0,False,AmazonHelp,,85741735,0,False,\n",
      "'793281386912354304',Tue Nov 01 02:39:55 +0000 2016,AmazonHelp,85741735,2225450,11366,False,796,False,We answer Amazon support questions 7 days a week. Support available in English / Deutsch / Español / Português / Français / Italiano / 日本語,,True,149569,53,Wed Oct 28 04:17:54 +0000 2009,en,\"@SeanEPanjab I'm sorry, we're unable to DM you. Was this order purchased on https://t.co/nUUp5MLhYl, or one of our other sites? ^CL\",0,False,SeanEPanjab,7.932706897802035e+17,143515471,0,False,\n",
      "'793501578766319616',Tue Nov 01 17:14:53 +0000 2016,SeanEPanjab,143515471,51287,4079,False,74,False,\"Content marketer; Polyglot; Beard aficionado; Sikh. Persian, Catalan, French, Spanish. You'll find lol in the interstitial lulls of my tweets.\",غریب الوطن,False,1503,850,Thu May 13 17:43:52 +0000 2010,en,@AmazonHelp It was purchased on https://t.co/gPWnuSkbwC.,0,False,AmazonHelp,7.932813869123543e+17,85741735,0,False,@AmazonHelp It was purchased on https://t.co/gPWnuSkbwC.\n",
      "'793501657346682880',Tue Nov 01 17:15:12 +0000 2016,SeanEPanjab,143515471,51287,4079,False,74,False,\"Content marketer; Polyglot; Beard aficionado; Sikh. Persian, Catalan, French, Spanish. You'll find lol in the interstitial lulls of my tweets.\",غریب الوطن,False,1503,850,Thu May 13 17:43:52 +0000 2010,en,\"@AmazonHelp I am following you now, if it helps to DM.\",0,False,AmazonHelp,7.932813869123543e+17,85741735,0,False,\n",
      "'793502854459879424',Tue Nov 01 17:19:57 +0000 2016,AmazonHelp,85741735,2225450,11366,False,796,False,We answer Amazon support questions 7 days a week. Support available in English / Deutsch / Español / Português / Français / Italiano / 日本語,,True,149569,53,Wed Oct 28 04:17:54 +0000 2009,en,@SeanEPanjab Please give us a call/chat so we can look into this order for you: https://t.co/hApLpMlfHN. ^HB,0,False,SeanEPanjab,7.935015787663196e+17,143515471,0,False,@SeanEPanjab Please give us a call/chat so we can look into this order for you: https://t.co/hApLpMlfHN. ^HB\n",
      "'793504235400884224',Tue Nov 01 17:25:26 +0000 2016,AmazonHelp,85741735,2225450,11366,False,796,False,We answer Amazon support questions 7 days a week. Support available in English / Deutsch / Español / Português / Français / Italiano / 日本語,,True,149569,53,Wed Oct 28 04:17:54 +0000 2009,en,\"@SeanEPanjab Without providing any sensitive information, do the order details indicate that the item was ever shipped? ^SW\",0,False,SeanEPanjab,7.935016573466829e+17,143515471,0,False,\n",
      "'793511847899070465',Tue Nov 01 17:55:41 +0000 2016,SeanEPanjab,143515471,51287,4079,False,74,False,\"Content marketer; Polyglot; Beard aficionado; Sikh. Persian, Catalan, French, Spanish. You'll find lol in the interstitial lulls of my tweets.\",غریب الوطن,False,1503,850,Thu May 13 17:43:52 +0000 2010,en,\"@AmazonHelp It was shipped and possibly delivered to my old place of employment. But when I asked for it, no one had it. And so I wonder +\",0,False,AmazonHelp,7.935042354008842e+17,85741735,0,False,\n",
      "'793511899279208449',Tue Nov 01 17:55:54 +0000 2016,SeanEPanjab,143515471,51287,4079,False,74,False,\"Content marketer; Polyglot; Beard aficionado; Sikh. Persian, Catalan, French, Spanish. You'll find lol in the interstitial lulls of my tweets.\",غریب الوطن,False,1503,850,Thu May 13 17:43:52 +0000 2010,en,@AmazonHelp if it was lost. I have the order #.,0,False,AmazonHelp,7.935042354008842e+17,85741735,0,False,\n",
      "'793513446633533440',Tue Nov 01 18:02:03 +0000 2016,AmazonHelp,85741735,2225450,11366,False,796,False,We answer Amazon support questions 7 days a week. Support available in English / Deutsch / Español / Português / Français / Italiano / 日本語,,True,149569,53,Wed Oct 28 04:17:54 +0000 2009,en,@SeanEPanjab I'm not able to access account info here. Please reach out by Phone/Chat so we can look at this: https://t.co/EKXRLsnxJu ^GL,0,False,SeanEPanjab,7.935118992792084e+17,143515471,0,False,@SeanEPanjab I'm not able to access account info here. Please reach out by Phone/Chat so we can look at this: https://t.co/EKXRLsnxJu ^GL\n",
      "\n",
      "'793299404975247360',Tue Nov 01 03:51:31 +0000 2016,aakashwangnoo,71457972,592,471,False,11,False,Don't try to be GOD in your lives...Let HIM work in your lives...and see the magic that he weaves...,New Delhi,False,234,57,Fri Sep 04 04:55:01 +0000 2009,en,@JeffBezos @amazonIN @AmazonHelp Tring...Tring...Tring Who's There? Your Suffering Customers from India Mr. Bezos...Get Up and Help!,0,False,JeffBezos,,15506669,0,False,\n",
      "'793301295255945216',Tue Nov 01 03:59:02 +0000 2016,AmazonHelp,85741735,2225442,11366,False,796,False,We answer Amazon support questions 7 days a week. Support available in English / Deutsch / Español / Português / Français / Italiano / 日本語,,True,149568,53,Wed Oct 28 04:17:54 +0000 2009,en,\"@aakashwangnoo Hi there, kindly write back to us with the details requested so we can proceed further with this.  ^KJ\",0,False,aakashwangnoo,7.932994049752474e+17,71457972,0,False,\n",
      "'793407430344310785',Tue Nov 01 11:00:46 +0000 2016,aakashwangnoo,71457972,592,471,False,11,False,Don't try to be GOD in your lives...Let HIM work in your lives...and see the magic that he weaves...,New Delhi,False,234,57,Fri Sep 04 04:55:01 +0000 2009,en,@AmazonHelp How many times do you want to write back to you guys??? Check the complaints through email regarding  Order 171-1338898-5999507.,0,False,AmazonHelp,7.933012952559452e+17,85741735,0,False,\n"
     ]
    }
   ],
   "source": [
    "def head(rdd, n: int=5) -> None:\n",
    "    for i in rdd.take(n):\n",
    "        print(i)\n",
    "\n",
    "\n",
    "head(rdd, 15)"
   ]
  },
  {
   "cell_type": "markdown",
   "metadata": {},
   "source": [
    "It is now apparent that there are two issues with the `rdd`. Spark is not context-aware and the headers appear as an instance in the data, and there are empty rows scattered throughout the `rdd`. We can make use of the `.filter()` method to remove these issues."
   ]
  },
  {
   "cell_type": "code",
   "execution_count": 3,
   "metadata": {},
   "outputs": [],
   "source": [
    "# get first string in rdd\n",
    "header = rdd.first()\n",
    "column_names = header.split(\",\")\n",
    "\n",
    "rdd1 = rdd\\\n",
    "    .filter(lambda x: x != header)\\\n",
    "    .filter(lambda x: x != '')"
   ]
  },
  {
   "cell_type": "markdown",
   "metadata": {},
   "source": [
    "We can also conveniently show the indices and column names as a byproduct of this operation."
   ]
  },
  {
   "cell_type": "code",
   "execution_count": 4,
   "metadata": {},
   "outputs": [
    {
     "name": "stdout",
     "output_type": "stream",
     "text": [
      "index\tcolumn name\n",
      "-------------------\n",
      "0\tid_str\n",
      "1\ttweet_created_at\n",
      "2\tuser_screen_name\n",
      "3\tuser_id_str\n",
      "4\tuser_statuses_count\n",
      "5\tuser_favourites_count\n",
      "6\tuser_protected\n",
      "7\tuser_listed_count\n",
      "8\tuser_following\n",
      "9\tuser_description\n",
      "10\tuser_location\n",
      "11\tuser_verified\n",
      "12\tuser_followers_count\n",
      "13\tuser_friends_count\n",
      "14\tuser_created_at\n",
      "15\ttweet_language\n",
      "16\ttext_\n",
      "17\tfavorite_count\n",
      "18\tfavorited\n",
      "19\tin_reply_to_screen_name\n",
      "20\tin_reply_to_status_id_str\n",
      "21\tin_reply_to_user_id_str\n",
      "22\tretweet_count\n",
      "23\tretweeted\n",
      "24\ttext\n"
     ]
    }
   ],
   "source": [
    "# print indices and columns of rdd1\n",
    "print(\"index\\tcolumn name\")\n",
    "print(\"-------------------\")\n",
    "\n",
    "for i, column in enumerate(column_names):\n",
    "    print(f\"{i}\\t{column}\")\n"
   ]
  },
  {
   "cell_type": "markdown",
   "metadata": {},
   "source": [
    "We will now make the assumption that valid records in the dataset correspond to those whose whose lists created by the `split()` method contain 25 elements, as shown in the above column name summary. We can also use this operation to extract the six relevant columns `id_str`, `tweet_created_at`, `user_verified`, `favorite count`, `retweet_count`, and `text_` needed for further analysis."
   ]
  },
  {
   "cell_type": "code",
   "execution_count": 5,
   "metadata": {},
   "outputs": [
    {
     "name": "stdout",
     "output_type": "stream",
     "text": [
      "['id_str', 'tweet_created_at', 'user_verified', 'favorite_count', 'retweet_count', 'text_']\n",
      "[\"'793502854459879424'\", 'Tue Nov 01 17:19:57 +0000 2016', 'True', '0', '0', '@SeanEPanjab Please give us a call/chat so we can look into this order for you: https://t.co/hApLpMlfHN. ^HB']\n",
      "[\"'793513446633533440'\", 'Tue Nov 01 18:02:03 +0000 2016', 'True', '0', '0', \"@SeanEPanjab I'm not able to access account info here. Please reach out by Phone/Chat so we can look at this: https://t.co/EKXRLsnxJu ^GL\"]\n",
      "[\"'793299404975247360'\", 'Tue Nov 01 03:51:31 +0000 2016', 'False', '0', '0', \"@JeffBezos @amazonIN @AmazonHelp Tring...Tring...Tring Who's There? Your Suffering Customers from India Mr. Bezos...Get Up and Help!\"]\n",
      "[\"'793407430344310785'\", 'Tue Nov 01 11:00:46 +0000 2016', 'False', '0', '0', '@AmazonHelp How many times do you want to write back to you guys??? Check the complaints through email regarding  Order 171-1338898-5999507.']\n",
      "[\"'793423313674571776'\", 'Tue Nov 01 12:03:53 +0000 2016', 'True', '0', '0', '@aakashwangnoo Hi! We have responded to you here: https://t.co/v4YVCa3rff ^SG(1/2)']\n"
     ]
    }
   ],
   "source": [
    "relevant_indices = [0,1,11,17,22,16]\n",
    "\n",
    "rdd2 = rdd1\\\n",
    "    .filter(lambda x: len(x.split(\",\")) == 25)\\\n",
    "    .map(lambda x: [x.split(\",\")[i] for i in relevant_indices])\n",
    "\n",
    "print([column_names[i] for i in relevant_indices])\n",
    "head(rdd2, 5)"
   ]
  },
  {
   "cell_type": "markdown",
   "metadata": {},
   "source": [
    "## Task 1\n",
    "### _Step 1_\n",
    "We can remove records from unverified users using the `filter()` method."
   ]
  },
  {
   "cell_type": "code",
   "execution_count": 12,
   "metadata": {},
   "outputs": [
    {
     "name": "stdout",
     "output_type": "stream",
     "text": [
      "[\"'793502854459879424'\", 'Tue Nov 01 17:19:57 +0000 2016', 0, 0, '@SeanEPanjab Please give us a call/chat so we can look into this order for you: https://t.co/hApLpMlfHN. ^HB']\n",
      "[\"'793513446633533440'\", 'Tue Nov 01 18:02:03 +0000 2016', 0, 0, \"@SeanEPanjab I'm not able to access account info here. Please reach out by Phone/Chat so we can look at this: https://t.co/EKXRLsnxJu ^GL\"]\n",
      "[\"'793423313674571776'\", 'Tue Nov 01 12:03:53 +0000 2016', 0, 0, '@aakashwangnoo Hi! We have responded to you here: https://t.co/v4YVCa3rff ^SG(1/2)']\n",
      "[\"'793423314333134850'\", 'Tue Nov 01 12:03:53 +0000 2016', 0, 0, '@aakashwangnoo Please don’t provide your order details as we consider them to be personal info. Our page is visible to public. ^SG(2/2)']\n",
      "[\"'793551822476705793'\", 'Tue Nov 01 20:34:32 +0000 2016', 0, 0, \"@aakashwangnoo Hey! I see that we've already responded to your query. That is the best possible resolution we can provide 1/2 ^MM\"]\n"
     ]
    }
   ],
   "source": [
    "rdd3 = rdd2\\\n",
    "    .filter(lambda x: x[2] != \"False\")\\\n",
    "    .map(lambda x: [x[0], x[1], int(x[3]), int(x[4]), x[5]] )\n",
    "\n",
    "head(rdd3)"
   ]
  }
 ],
 "metadata": {
  "kernelspec": {
   "display_name": "Python 3",
   "language": "python",
   "name": "python3"
  },
  "language_info": {
   "codemirror_mode": {
    "name": "ipython",
    "version": 3
   },
   "file_extension": ".py",
   "mimetype": "text/x-python",
   "name": "python",
   "nbconvert_exporter": "python",
   "pygments_lexer": "ipython3",
   "version": "3.11.5"
  },
  "orig_nbformat": 4
 },
 "nbformat": 4,
 "nbformat_minor": 2
}
