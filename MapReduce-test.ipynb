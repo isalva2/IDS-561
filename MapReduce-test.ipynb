{
 "cells": [
  {
   "cell_type": "code",
   "execution_count": 41,
   "metadata": {},
   "outputs": [],
   "source": [
    "def preprocessing(file):\n",
    "\n",
    "    # read txt file\n",
    "    input = open(file, \"r\")\n",
    "    text = input.read()\n",
    "\n",
    "    # remove numbers and stop words\n",
    "    no_numbers = ''.join([i for i in text if not i.isdigit()]).lower()\n",
    "\n",
    "    # remove punctuations and new line char\n",
    "    import re\n",
    "    only_text = re.sub(r\"[^a-z\\s]+\\n\", ' ', no_numbers)\n",
    "    \n",
    "    # replace multiple consecutive spaces with a single space\n",
    "    finaltext = re.sub(r'\\s+', ' ', only_text).strip()\n",
    "\n",
    "    return finaltext\n"
   ]
  },
  {
   "cell_type": "code",
   "execution_count": null,
   "metadata": {},
   "outputs": [],
   "source": [
    "text = preprocessing()"
   ]
  },
  {
   "cell_type": "code",
   "execution_count": null,
   "metadata": {},
   "outputs": [],
   "source": [
    "def partition(text, a)"
   ]
  }
 ],
 "metadata": {
  "kernelspec": {
   "display_name": "Python 3",
   "language": "python",
   "name": "python3"
  },
  "language_info": {
   "codemirror_mode": {
    "name": "ipython",
    "version": 3
   },
   "file_extension": ".py",
   "mimetype": "text/x-python",
   "name": "python",
   "nbconvert_exporter": "python",
   "pygments_lexer": "ipython3",
   "version": "3.11.4"
  },
  "orig_nbformat": 4
 },
 "nbformat": 4,
 "nbformat_minor": 2
}
