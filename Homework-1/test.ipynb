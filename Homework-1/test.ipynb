{
 "cells": [
  {
   "cell_type": "code",
   "execution_count": 7,
   "metadata": {},
   "outputs": [],
   "source": [
    "from main import preprocessing, splitter, mapper, sort, partition, reducer\n",
    "import pandas as pd"
   ]
  },
  {
   "cell_type": "markdown",
   "metadata": {},
   "source": [
    "# Test main"
   ]
  },
  {
   "cell_type": "code",
   "execution_count": 8,
   "metadata": {},
   "outputs": [],
   "source": [
    "\n",
    "# get input file\n",
    "file = \"./data/temperatures.txt\"\n",
    "\n",
    "# preprocess data\n",
    "clean_text = preprocessing(file)\n",
    "\n",
    "# split data\n",
    "split1, split2 = splitter(clean_text)\n",
    "\n",
    "# pass splits to two mappers\n",
    "mapper1 = mapper(split1)\n",
    "mapper2 = mapper(split2)\n",
    "\n",
    "# shuffle sort mapper outputs\n",
    "sorted_keyval_pairs = sort(mapper1, mapper2)\n",
    "\n",
    "# partition sorted key-value pairs\n",
    "partition1, partition2 = partition(sorted_keyval_pairs)\n",
    "\n",
    "# pass partition to two reducers\n",
    "reducer1 = reducer(partition1)\n",
    "reducer2 = reducer(partition2)\n",
    "\n",
    "combined_reducers = {**reducer1, **reducer2}\n",
    "\n",
    "# convert to df\n",
    "df = pd.DataFrame.from_dict(combined_reducers, orient='index', columns=['Value']).reset_index()\n",
    "df.columns = ['year', 'Max temp']\n"
   ]
  },
  {
   "cell_type": "code",
   "execution_count": 9,
   "metadata": {},
   "outputs": [
    {
     "name": "stdout",
     "output_type": "stream",
     "text": [
      "    year  Max temp\n",
      "0   2010       120\n",
      "1   2011       120\n",
      "2   2012       120\n",
      "3   2013       120\n",
      "4   2014       120\n",
      "5   2015       120\n",
      "6   2016       120\n",
      "7   2017       120\n",
      "8   2018       120\n",
      "9   2019       120\n",
      "10  2020       120\n"
     ]
    }
   ],
   "source": [
    "print(df)"
   ]
  }
 ],
 "metadata": {
  "kernelspec": {
   "display_name": "Python 3",
   "language": "python",
   "name": "python3"
  },
  "language_info": {
   "codemirror_mode": {
    "name": "ipython",
    "version": 3
   },
   "file_extension": ".py",
   "mimetype": "text/x-python",
   "name": "python",
   "nbconvert_exporter": "python",
   "pygments_lexer": "ipython3",
   "version": "3.11.4"
  },
  "orig_nbformat": 4
 },
 "nbformat": 4,
 "nbformat_minor": 2
}
